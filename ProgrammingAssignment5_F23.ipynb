{
 "cells": [
  {
   "cell_type": "markdown",
   "id": "8ceb8893",
   "metadata": {},
   "source": [
    "## Programming for Business Analytics Assignment 5 - Dictionaries"
   ]
  },
  {
   "cell_type": "markdown",
   "id": "28a91583",
   "metadata": {},
   "source": [
    "### Kelsey Quigg\n",
    "### Fall 2023"
   ]
  },
  {
   "cell_type": "markdown",
   "id": "d1fb29d5",
   "metadata": {},
   "source": [
    "The purpose of this assignment is to create a dictionary of word frequencies. Each unique word in a text file should be stored alongside a count of how many times it appears in the text."
   ]
  },
  {
   "cell_type": "markdown",
   "id": "ab88990e",
   "metadata": {},
   "source": [
    "Create an empty dictionary to store the words and frequencies in:"
   ]
  },
  {
   "cell_type": "code",
   "execution_count": 10,
   "id": "2ef2e09b",
   "metadata": {},
   "outputs": [],
   "source": [
    "frequencies={}"
   ]
  },
  {
   "cell_type": "markdown",
   "id": "f07abad0",
   "metadata": {},
   "source": [
    "Create a list of punctuation marks that will need to be removed from the text:"
   ]
  },
  {
   "cell_type": "code",
   "execution_count": 11,
   "id": "3545be9c",
   "metadata": {},
   "outputs": [],
   "source": [
    "punctuation=\",.\\\"!\""
   ]
  },
  {
   "cell_type": "markdown",
   "id": "4109b81e",
   "metadata": {},
   "source": [
    "Enter the name of the file:"
   ]
  },
  {
   "cell_type": "code",
   "execution_count": 12,
   "id": "03bad3fc",
   "metadata": {
    "scrolled": true
   },
   "outputs": [
    {
     "name": "stdout",
     "output_type": "stream",
     "text": [
      "Enter file name: TheTortoiseAndTheHare.txt\n"
     ]
    }
   ],
   "source": [
    "filename=input(\"Enter file name: \")"
   ]
  },
  {
   "cell_type": "markdown",
   "id": "26e6d6e2",
   "metadata": {},
   "source": [
    "Read the file, make all words lowercase, remove punctuation, and split the text into individual words. For each word, store it in the dictionary as a string, along with how many times it appears in the text."
   ]
  },
  {
   "cell_type": "code",
   "execution_count": 13,
   "id": "7e0ba475",
   "metadata": {},
   "outputs": [],
   "source": [
    "with open(filename, \"r\") as infile:\n",
    "    for line in infile:\n",
    "        line=line.lower()\n",
    "        for elements in line:\n",
    "            if elements in punctuation:\n",
    "                line=line.replace(elements,\"\")\n",
    "        for item in line.split( ):\n",
    "            word=str(item)\n",
    "            value=frequencies.get(word,0)\n",
    "            value+=1\n",
    "            frequencies[word]=value"
   ]
  },
  {
   "cell_type": "markdown",
   "id": "1a043c58",
   "metadata": {},
   "source": [
    "Count how many words are in the text:"
   ]
  },
  {
   "cell_type": "code",
   "execution_count": 14,
   "id": "62f89838",
   "metadata": {},
   "outputs": [
    {
     "name": "stdout",
     "output_type": "stream",
     "text": [
      "There are 77 unique terms.\n"
     ]
    }
   ],
   "source": [
    "totalunique=len(frequencies)\n",
    "print(\"There are\", totalunique, \"unique terms.\")"
   ]
  },
  {
   "cell_type": "markdown",
   "id": "f3c3f81e",
   "metadata": {},
   "source": [
    "Show the dictionary (sorted alphabetically):"
   ]
  },
  {
   "cell_type": "code",
   "execution_count": 15,
   "id": "c95ba0f3",
   "metadata": {},
   "outputs": [
    {
     "name": "stdout",
     "output_type": "stream",
     "text": [
      "a 3\n",
      "agreed 1\n",
      "ahead 2\n",
      "and 4\n",
      "asleep 2\n",
      "be 1\n",
      "beat 1\n",
      "bet 1\n",
      "but 2\n",
      "could 3\n",
      "did 1\n",
      "end 1\n",
      "far 2\n",
      "fast 2\n",
      "fell 1\n",
      "finish 1\n",
      "foolish 2\n",
      "for 1\n",
      "from 1\n",
      "fun 2\n",
      "ha 3\n",
      "had 1\n",
      "hare 11\n",
      "he 7\n",
      "his 2\n",
      "how 1\n",
      "in 1\n",
      "it 2\n",
      "kept 1\n",
      "knew 1\n",
      "knows 1\n",
      "late 1\n",
      "line 1\n",
      "making 1\n",
      "me 1\n",
      "moving 1\n",
      "nap 1\n",
      "never 1\n",
      "not 1\n",
      "now 1\n",
      "of 2\n",
      "once 1\n",
      "pace 1\n",
      "race 7\n",
      "ran 2\n",
      "rest 2\n",
      "said 1\n",
      "show 1\n",
      "slow 2\n",
      "slowly 1\n",
      "so 3\n",
      "soon 1\n",
      "started 1\n",
      "steady 2\n",
      "still 1\n",
      "stop 1\n",
      "stopped 1\n",
      "that 3\n",
      "the 28\n",
      "think 1\n",
      "thought 1\n",
      "time 1\n",
      "to 6\n",
      "too 2\n",
      "tortoise 10\n",
      "up 2\n",
      "upon 1\n",
      "was 5\n",
      "when 2\n",
      "while 1\n",
      "win 2\n",
      "wins 1\n",
      "with 1\n",
      "woke 1\n",
      "won 2\n",
      "would 1\n",
      "you 1\n"
     ]
    }
   ],
   "source": [
    "frequencies=dict(sorted(frequencies.items()))\n",
    "for key,value in frequencies.items():\n",
    "    print(key,value)"
   ]
  }
 ],
 "metadata": {
  "kernelspec": {
   "display_name": "Python 3 (ipykernel)",
   "language": "python",
   "name": "python3"
  },
  "language_info": {
   "codemirror_mode": {
    "name": "ipython",
    "version": 3
   },
   "file_extension": ".py",
   "mimetype": "text/x-python",
   "name": "python",
   "nbconvert_exporter": "python",
   "pygments_lexer": "ipython3",
   "version": "3.11.4"
  }
 },
 "nbformat": 4,
 "nbformat_minor": 5
}
